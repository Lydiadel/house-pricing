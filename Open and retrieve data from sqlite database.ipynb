{
 "cells": [
  {
   "cell_type": "markdown",
   "id": "8e4b6d36",
   "metadata": {},
   "source": [
    "## Import Dependencies"
   ]
  },
  {
   "cell_type": "code",
   "execution_count": 1,
   "id": "c0a5b3a6",
   "metadata": {},
   "outputs": [],
   "source": [
    "import warnings\n",
    "warnings.filterwarnings('ignore')\n",
    "\n",
    "import numpy as np\n",
    "import pandas as pd\n",
    "from collections import Counter\n",
    "\n",
    "from pathlib import Path\n",
    "\n",
    "import sqlite3"
   ]
  },
  {
   "cell_type": "code",
   "execution_count": 2,
   "id": "595bf542",
   "metadata": {},
   "outputs": [
    {
     "name": "stdout",
     "output_type": "stream",
     "text": [
      "[('table_users2',), ('table_city2',)]\n"
     ]
    }
   ],
   "source": [
    "## Get the names of the tables in the data base db2_w2tables.sqlite\n",
    "\n",
    "conn = sqlite3.connect('db2_w2tables.sqlite')\n",
    "c = conn.cursor()\n",
    "c.execute(\"SELECT name FROM sqlite_master WHERE type='table';\")\n",
    "print(c.fetchall())"
   ]
  },
  {
   "cell_type": "markdown",
   "id": "29237435",
   "metadata": {},
   "source": [
    "## Extract first table and get DataFrame from it"
   ]
  },
  {
   "cell_type": "code",
   "execution_count": 3,
   "id": "79279041",
   "metadata": {},
   "outputs": [
    {
     "data": {
      "text/plain": [
       "['user_id2', 'username2']"
      ]
     },
     "execution_count": 3,
     "metadata": {},
     "output_type": "execute_result"
    }
   ],
   "source": [
    "### Example extracting the names of the columns in the table table_users2 \n",
    "## IN DATABASE db2_w2tables.sqlite\n",
    "\n",
    "connection = sqlite3.connect('db2_w2tables.sqlite')\n",
    "connection.row_factory = sqlite3.Row\n",
    "cursor = connection.execute('select * from table_users2')\n",
    "# instead of cursor.description:\n",
    "row = cursor.fetchone()\n",
    "row_names = row.keys()\n",
    "row_names"
   ]
  },
  {
   "cell_type": "code",
   "execution_count": 4,
   "id": "db89f304",
   "metadata": {},
   "outputs": [],
   "source": [
    "table_users2_data = c.execute('''SELECT * FROM table_users2 ''').fetchall()"
   ]
  },
  {
   "cell_type": "code",
   "execution_count": 5,
   "id": "3bdc0962",
   "metadata": {},
   "outputs": [
    {
     "data": {
      "text/plain": [
       "[(1, 'Paco'), (2, 'Pedro'), (3, 'Jhon'), (4, 'Peter'), (5, 'Julia')]"
      ]
     },
     "execution_count": 5,
     "metadata": {},
     "output_type": "execute_result"
    }
   ],
   "source": [
    "table_users2_data"
   ]
  },
  {
   "cell_type": "markdown",
   "id": "f02c5dd0",
   "metadata": {},
   "source": [
    "## Make dataframe from retrieved data"
   ]
  },
  {
   "cell_type": "code",
   "execution_count": 6,
   "id": "e31d8d3f",
   "metadata": {},
   "outputs": [],
   "source": [
    "df_table_users2_data = pd.DataFrame(table_users2_data, \n",
    "                     columns=[\"user_id2\", \"username2\"])"
   ]
  },
  {
   "cell_type": "code",
   "execution_count": 7,
   "id": "bb972d50",
   "metadata": {},
   "outputs": [
    {
     "data": {
      "text/html": [
       "<div>\n",
       "<style scoped>\n",
       "    .dataframe tbody tr th:only-of-type {\n",
       "        vertical-align: middle;\n",
       "    }\n",
       "\n",
       "    .dataframe tbody tr th {\n",
       "        vertical-align: top;\n",
       "    }\n",
       "\n",
       "    .dataframe thead th {\n",
       "        text-align: right;\n",
       "    }\n",
       "</style>\n",
       "<table border=\"1\" class=\"dataframe\">\n",
       "  <thead>\n",
       "    <tr style=\"text-align: right;\">\n",
       "      <th></th>\n",
       "      <th>user_id2</th>\n",
       "      <th>username2</th>\n",
       "    </tr>\n",
       "  </thead>\n",
       "  <tbody>\n",
       "    <tr>\n",
       "      <th>0</th>\n",
       "      <td>1</td>\n",
       "      <td>Paco</td>\n",
       "    </tr>\n",
       "    <tr>\n",
       "      <th>1</th>\n",
       "      <td>2</td>\n",
       "      <td>Pedro</td>\n",
       "    </tr>\n",
       "    <tr>\n",
       "      <th>2</th>\n",
       "      <td>3</td>\n",
       "      <td>Jhon</td>\n",
       "    </tr>\n",
       "    <tr>\n",
       "      <th>3</th>\n",
       "      <td>4</td>\n",
       "      <td>Peter</td>\n",
       "    </tr>\n",
       "    <tr>\n",
       "      <th>4</th>\n",
       "      <td>5</td>\n",
       "      <td>Julia</td>\n",
       "    </tr>\n",
       "  </tbody>\n",
       "</table>\n",
       "</div>"
      ],
      "text/plain": [
       "   user_id2 username2\n",
       "0         1      Paco\n",
       "1         2     Pedro\n",
       "2         3      Jhon\n",
       "3         4     Peter\n",
       "4         5     Julia"
      ]
     },
     "execution_count": 7,
     "metadata": {},
     "output_type": "execute_result"
    }
   ],
   "source": [
    "df_table_users2_data"
   ]
  },
  {
   "cell_type": "code",
   "execution_count": null,
   "id": "aa41ff92",
   "metadata": {},
   "outputs": [],
   "source": []
  },
  {
   "cell_type": "code",
   "execution_count": null,
   "id": "526ea7a2",
   "metadata": {},
   "outputs": [],
   "source": []
  }
 ],
 "metadata": {
  "kernelspec": {
   "display_name": "mlenv",
   "language": "python",
   "name": "mlenv"
  },
  "language_info": {
   "codemirror_mode": {
    "name": "ipython",
    "version": 3
   },
   "file_extension": ".py",
   "mimetype": "text/x-python",
   "name": "python",
   "nbconvert_exporter": "python",
   "pygments_lexer": "ipython3",
   "version": "3.7.13"
  }
 },
 "nbformat": 4,
 "nbformat_minor": 5
}
