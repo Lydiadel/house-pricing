{
 "cells": [
  {
   "cell_type": "markdown",
   "id": "df007ca4",
   "metadata": {},
   "source": [
    "# Conect after data preprocesing"
   ]
  },
  {
   "cell_type": "code",
   "execution_count": null,
   "id": "0ec93a8f",
   "metadata": {},
   "outputs": [],
   "source": []
  },
  {
   "cell_type": "markdown",
   "id": "8563b7ab",
   "metadata": {},
   "source": [
    "## Dependencies"
   ]
  },
  {
   "cell_type": "code",
   "execution_count": null,
   "id": "d924ceaa",
   "metadata": {},
   "outputs": [],
   "source": [
    "import warnings\n",
    "warnings.filterwarnings('ignore')\n",
    "\n",
    "import numpy as np\n",
    "import pandas as pd\n",
    "from collections import Counter\n",
    "\n",
    "from pathlib import Path\n",
    "\n",
    "import sqlite3"
   ]
  },
  {
   "cell_type": "markdown",
   "id": "8dd0974d",
   "metadata": {},
   "source": [
    "## Create the database"
   ]
  },
  {
   "cell_type": "code",
   "execution_count": null,
   "id": "9e4f3a3b",
   "metadata": {},
   "outputs": [],
   "source": [
    "## Create the database NAME: project_1_database\n",
    "Path('project_1_database.sqlite').touch()"
   ]
  },
  {
   "cell_type": "code",
   "execution_count": null,
   "id": "0f64f04d",
   "metadata": {},
   "outputs": [],
   "source": [
    "## Connecto to the database\n",
    "conn = sqlite3.connect('project_1_database.sqlite')\n",
    "c = conn.cursor()"
   ]
  },
  {
   "cell_type": "code",
   "execution_count": null,
   "id": "c9acee68",
   "metadata": {},
   "outputs": [],
   "source": [
    "## Create table named table_1 in database named project_1_database\n",
    "c.execute('''CREATE TABLE table_1 ( SalePrice int, MSSubClass int, MSZoning text, LotFrontage int, LotArea int, \n",
    "       LotShape text, LandContour text, Utilities text, LotConfig text,\n",
    "       LandSlope text, Neighborhood text, Condition1 text, Condition2 text, BldgType text,\n",
    "       HouseStyle text, OverallQual text, OverallCond text, \n",
    "       RoofStyle text, RoofMatl text, Exterior1st text, Exterior2nd text, MasVnrType text,\n",
    "       Foundation text, Heating text)''')\n",
    "\n",
    "## Create table named table_2 in database named project_1_database\n",
    "c.execute('''CREATE TABLE table_2 (HeatingQC text, CentralAir text, Electrical text, BsmtFullBath text, BsmtHalfBath text, FullBath text,\n",
    "       HalfBath text, BedroomAbvGr text, KitchenAbvGr text, KitchenQual text,\n",
    "       TotRmsAbvGrd text, Functional text, Fireplaces text, FireplaceQu text, GarageType text)''')\n"
   ]
  },
  {
   "cell_type": "code",
   "execution_count": null,
   "id": "e3b41685",
   "metadata": {},
   "outputs": [],
   "source": [
    "# load the data into a Pandas DataFrame\n",
    "table_1_df = X0(subset=['SalePrice', 'MSSubClass', 'MSZoning', 'LotFrontage', 'LotArea', \n",
    "       'LotShape', 'LandContour', 'Utilities', 'LotConfig',\n",
    "       'LandSlope', 'Neighborhood', 'Condition1', 'Condition2', 'BldgType',\n",
    "       'HouseStyle', 'OverallQual', 'OverallCond', \n",
    "       'RoofStyle', 'RoofMatl', 'Exterior1st', 'Exterior2nd', 'MasVnrType',\n",
    "       'Foundation', 'Heating'])\n",
    "\n",
    "# load the data into a Pandas DataFrame\n",
    "table_2_df = X0(subset=[\n",
    "       'HeatingQC', 'CentralAir', 'Electrical', 'BsmtFullBath', 'BsmtHalfBath', 'FullBath',\n",
    "       'HalfBath', 'BedroomAbvGr', 'KitchenAbvGr', 'KitchenQual',\n",
    "       'TotRmsAbvGrd', 'Functional', 'Fireplaces', 'FireplaceQu', 'GarageType'])\n"
   ]
  },
  {
   "cell_type": "code",
   "execution_count": null,
   "id": "c05face7",
   "metadata": {},
   "outputs": [],
   "source": [
    "# write the data to a sqlite table\n",
    "table_1_df.to_sql('table_1', conn, if_exists='append', index = False)\n",
    "\n",
    "# write the data to a sqlite table\n",
    "table_2_df.to_sql('table_2', conn, if_exists='append', index = False)"
   ]
  },
  {
   "cell_type": "code",
   "execution_count": null,
   "id": "e1887b80",
   "metadata": {},
   "outputs": [],
   "source": [
    "conn.close()"
   ]
  },
  {
   "cell_type": "code",
   "execution_count": null,
   "id": "4ab3bc94",
   "metadata": {},
   "outputs": [],
   "source": [
    "c.close()"
   ]
  },
  {
   "cell_type": "markdown",
   "id": "11168902",
   "metadata": {},
   "source": [
    "# Conect to the database using SQLAlquemy"
   ]
  },
  {
   "cell_type": "code",
   "execution_count": null,
   "id": "eb8fcaf8",
   "metadata": {},
   "outputs": [],
   "source": [
    "# Python SQL toolkit and Object Relational Mapper\n",
    "import sqlalchemy\n",
    "from sqlalchemy.ext.automap import automap_base\n",
    "from sqlalchemy.orm import Session\n",
    "from sqlalchemy import create_engine, func"
   ]
  },
  {
   "cell_type": "code",
   "execution_count": null,
   "id": "9b2a7bb2",
   "metadata": {},
   "outputs": [],
   "source": [
    "engine = create_engine(\"sqlite:///project_1_database.sqlite\")\n",
    "\n",
    "# reflect an existing database into a new model\n",
    "Base = automap_base()\n",
    "# reflect the tables\n",
    "Base.prepare(engine, reflect=True)\n",
    "\n",
    "# Save references to each table\n",
    "table_1 = Base.classes.table_1\n",
    "\n",
    "table_2 = Base.classes.table_2"
   ]
  },
  {
   "cell_type": "code",
   "execution_count": null,
   "id": "d7c052f7",
   "metadata": {},
   "outputs": [],
   "source": [
    "# Create our session (link) from Python to the DB\n",
    "session = Session(engine)"
   ]
  },
  {
   "cell_type": "code",
   "execution_count": null,
   "id": "49986dbd",
   "metadata": {},
   "outputs": [],
   "source": [
    "#  Import the sqlalchemy extract function.\n",
    "from sqlalchemy import extract"
   ]
  },
  {
   "cell_type": "code",
   "execution_count": null,
   "id": "b44688e5",
   "metadata": {},
   "outputs": [],
   "source": [
    "#  Import the sqlalchemy extract function.\n",
    "from sqlalchemy import extract\n",
    "\n",
    "#  Write a query that gets the tables content \n",
    "table_1_results = session.query(table_1)\n",
    "\n",
    "table_2_results = session.query(table_2)\n"
   ]
  },
  {
   "cell_type": "code",
   "execution_count": null,
   "id": "ce9e5bc4",
   "metadata": {},
   "outputs": [],
   "source": [
    "## join table_1 and table_2"
   ]
  },
  {
   "cell_type": "code",
   "execution_count": null,
   "id": "281d471a",
   "metadata": {},
   "outputs": [],
   "source": []
  },
  {
   "cell_type": "code",
   "execution_count": null,
   "id": "88b483c6",
   "metadata": {},
   "outputs": [],
   "source": []
  },
  {
   "cell_type": "code",
   "execution_count": null,
   "id": "5f12ed2b",
   "metadata": {},
   "outputs": [],
   "source": [
    "#  Create a DataFrame \n",
    "x = pd.DataFrame(results)\n",
    "x"
   ]
  },
  {
   "cell_type": "markdown",
   "id": "5e3c4d89",
   "metadata": {},
   "source": [
    "# Conect to Machine Learning Algo"
   ]
  },
  {
   "cell_type": "code",
   "execution_count": null,
   "id": "7ec8c560",
   "metadata": {},
   "outputs": [],
   "source": []
  }
 ],
 "metadata": {
  "kernelspec": {
   "display_name": "mlenv",
   "language": "python",
   "name": "mlenv"
  },
  "language_info": {
   "codemirror_mode": {
    "name": "ipython",
    "version": 3
   },
   "file_extension": ".py",
   "mimetype": "text/x-python",
   "name": "python",
   "nbconvert_exporter": "python",
   "pygments_lexer": "ipython3",
   "version": "3.7.13"
  }
 },
 "nbformat": 4,
 "nbformat_minor": 5
}
